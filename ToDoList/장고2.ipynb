{
 "cells": [
  {
   "cell_type": "code",
   "execution_count": null,
   "id": "67ec4cac",
   "metadata": {},
   "outputs": [],
   "source": [
    "path('', views.index, name='index'),\n",
    "    path('restaurantDetail/',views.restaurantDetail, name='resDetailPage'),\n",
    "    path('restaurantCreate/', views.restaurantCreate, name='resCreatePage'),\n",
    "    path('categoryCreate/',views.categoryCreate, name='cateCreatePage'),\n"
   ]
  },
  {
   "cell_type": "code",
   "execution_count": null,
   "id": "d7153de9",
   "metadata": {},
   "outputs": [],
   "source": [
    "from django.shortcuts import render\n",
    "from django.http import HttpResponse\n",
    "# Create your views here.\n",
    "def index(request) :\n",
    "    return HttpResponse('index')\n",
    "\n",
    "def restaurantCreate(request) :\n",
    "    return HttpResponse('restaurantCreate')\n",
    "\n",
    "def restaurantDetail(request) :\n",
    "    return HttpResponse('restaurantDetail')\n",
    "\n",
    "def categoryCreate(request) :\n",
    "    return HttpResponse('categoryCreate')\n"
   ]
  },
  {
   "cell_type": "code",
   "execution_count": null,
   "id": "6db84f7e",
   "metadata": {},
   "outputs": [],
   "source": [
    "from django.urls import path\n",
    "from . import views\n",
    "\n",
    "urlpatterns = [\n",
    "    path('', views.index, name='index'), # http://localhost:8000 요청 처리\n",
    "    path('restaurantDetail/', views.restaurantDetail, name='resDetailPage'), #http://localhost:8000/restaurantDetail/ 요청 처리\n",
    "    path('restaurantCreate/', views.restaurantCreate, name='resCreatePage'), #http://localhost:8000/restaurantCreate/ 요청 처리\n",
    "    path('categoryCreate/', views.categoryCreate, name='cateCreatePage'), # http://localhost:8000/categoryCreate/ 요청 처리\n",
    "]\n"
   ]
  },
  {
   "cell_type": "code",
   "execution_count": null,
   "id": "fa0005d6",
   "metadata": {},
   "outputs": [],
   "source": [
    "path('categoryCreate/create', views.Create_category, name = 'cateCreate'),\n"
   ]
  },
  {
   "cell_type": "code",
   "execution_count": null,
   "id": "7de1f9b2",
   "metadata": {},
   "outputs": [],
   "source": [
    "def Create_category(request) :\n",
    "    return HttpResponse(\"여기서 카테고리 저장을 구현합니다\")\n"
   ]
  },
  {
   "cell_type": "code",
   "execution_count": null,
   "id": "797f8d47",
   "metadata": {},
   "outputs": [],
   "source": [
    "from django.shortcuts import render\n",
    "from django.http import HttpResponse,HttpResponseRedirect\n",
    "from django.urls import reverse\n",
    "from .models import *\n"
   ]
  },
  {
   "cell_type": "code",
   "execution_count": null,
   "id": "ba4ba8b5",
   "metadata": {},
   "outputs": [],
   "source": [
    "def Create_category(request) :\n",
    "    # 사용자가 입력한 카테고리 Data를 추출해서 DB에 저장\n",
    "    #1. 사용자가 입력한 카테고리 Data를 추출(post방식으로 서버에 전송됨)\n",
    "    category_name = request.POST['categoryName']\n",
    "    #2. 추출 Data DB에 저장\n",
    "    new_category= Category(category_name=category_name) # 모델에 data를 적용한 인스턴스 생성(insert 구문 생성)\n",
    "    new_category.save() #insert 구문 db에 반영\n",
    "\n",
    "    # DB 저장 완료 후 index.html 파일을 재 요청\n",
    "    return HttpResponseRedirect(reverse('index')) # index url (기본페이지요청)\n",
    "    # return HttpResponse(\"여기서 카테고리 저장을 구현합니다\")\n"
   ]
  },
  {
   "cell_type": "code",
   "execution_count": null,
   "id": "f60756a2",
   "metadata": {},
   "outputs": [],
   "source": [
    "def index(request) :\n",
    "    # 기존에 입력되어 있는(혹은 새로 입력한) 카테고리 내용을 DB에서 select 함\n",
    "    categories = Category.objects.all() # select 진행 후 결과 반환\n",
    "        \n",
    "    # rendering에 사용할 dict로 구성\n",
    "    content = {'categories' : categories}\n",
    "    \n",
    "    # 구성된 dict를 rendering에 사용하도록 전달\n",
    "    return render(request,'shareRes/index.html', content) # 클라이언트요청에대해 html 코드 렌더링(반환포함)\n",
    "    # return HttpResponse('index') # 요청에의한 응답 확인\n"
   ]
  }
 ],
 "metadata": {
  "kernelspec": {
   "display_name": "Python 3",
   "language": "python",
   "name": "python3"
  },
  "language_info": {
   "codemirror_mode": {
    "name": "ipython",
    "version": 3
   },
   "file_extension": ".py",
   "mimetype": "text/x-python",
   "name": "python",
   "nbconvert_exporter": "python",
   "pygments_lexer": "ipython3",
   "version": "3.8.8"
  }
 },
 "nbformat": 4,
 "nbformat_minor": 5
}
