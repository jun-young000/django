{
 "cells": [
  {
   "cell_type": "code",
   "execution_count": null,
   "id": "2e3471e9",
   "metadata": {},
   "outputs": [],
   "source": [
    "def restaurantDetail(request,res_id) : # 요청된 url로 게시글 id 가 전달됨(파라미터로 받아야함)\n",
    "    # 전달된 게시글 id에 해당하는 글을 DB 에서 추출한후 인스턴스변수에 저장\n",
    "    restarunt = Restaurant.objects.get(id=res_id)\n",
    "    # 인스턴스변수로 딕셔너리생성\n",
    "    content = {'restarunt':restarunt}\n",
    "    # 딕셔너리를 html파일로 전달해서 동적 렌더링을 진행\n",
    "    return render(request, 'shareRes/restaurantDetail.html',content)\n",
    "    # return HttpResponse('restaurantDetail')\n"
   ]
  },
  {
   "cell_type": "code",
   "execution_count": null,
   "id": "a39b423e",
   "metadata": {},
   "outputs": [],
   "source": [
    "path('restaurantDetail/updatePage/<str:res_id>',views.restaurantUpdate, name='resUpdatePage'),\n"
   ]
  },
  {
   "cell_type": "code",
   "execution_count": null,
   "id": "60f31507",
   "metadata": {},
   "outputs": [],
   "source": [
    "def restaurantUpdate(request,res_id) :\n",
    "    # 카테고리 수정 시 기존 카테고리에서 선택하게 해야 함 (db 카테고리 테이블에서 모든 레코드 추출)\n",
    "    categories = Category.objects.all()\n",
    "    restaurant = Restaurant.objects.get(id=res_id)\n",
    "    content = {'categories':categories,'restaurant': restaurant}\n",
    "    return render(request,'shareRes/restaurantUpdate.html',content)\n"
   ]
  },
  {
   "cell_type": "code",
   "execution_count": null,
   "id": "e16441ea",
   "metadata": {},
   "outputs": [],
   "source": [
    "path('restaurantDetail/updatePage/update',views.Update_restaurant, name='resUpdate'),\n"
   ]
  },
  {
   "cell_type": "code",
   "execution_count": null,
   "id": "b5f0b27b",
   "metadata": {},
   "outputs": [],
   "source": [
    "resId = request.POST['resId']\n",
    "    change_category_id = request.POST['resCategory']\n",
    "    change_category = Category.objects.get(id = change_category_id)\n",
    "    change_name = request.POST['resTitle']\n",
    "    change_link = request.POST['resLink']\n",
    "    change_content = request.POST['resContent']\n",
    "    change_keyword = request.POST['resLoc']\n",
    "    before_restaurant = Restaurant.objects.get(id = resId)\n",
    "    before_restaurant.category = change_category\n",
    "    before_restaurant.restaurant_name = change_name\n",
    "    before_restaurant.restaurant_link = change_link\n",
    "    before_restaurant.restaurant_content = change_content\n",
    "    before_restaurant.restaurant_keyword = change_keyword\n",
    "    before_restaurant.save()\n",
    "    return HttpResponseRedirect(reverse('resDetailPage', kwargs={'res_id':resId}))\n"
   ]
  },
  {
   "cell_type": "code",
   "execution_count": null,
   "id": "fee19d8f",
   "metadata": {},
   "outputs": [],
   "source": [
    "def Delete_restaurant(request) :\n",
    "    # 삭제할 게시글 id를 request 에서 추출\n",
    "    res_id = request.POST['resId']\n",
    "    #  db에서 삭제할  게시글  인스턴스 생성\n",
    "    restaurant = Restaurant.objects.get(id=res_id)\n",
    "    #  db에서 삭제\n",
    "    restaurant.delete()\n",
    "    #  index.html 재요청\n",
    "    return HttpResponseRedirect(reverse('index'))\n"
   ]
  },
  {
   "cell_type": "code",
   "execution_count": null,
   "id": "89115524",
   "metadata": {},
   "outputs": [],
   "source": []
  },
  {
   "cell_type": "code",
   "execution_count": null,
   "id": "8cb130b4",
   "metadata": {},
   "outputs": [],
   "source": []
  },
  {
   "cell_type": "code",
   "execution_count": null,
   "id": "79ac71f0",
   "metadata": {},
   "outputs": [],
   "source": []
  },
  {
   "cell_type": "code",
   "execution_count": null,
   "id": "f1e8c522",
   "metadata": {},
   "outputs": [],
   "source": []
  },
  {
   "cell_type": "code",
   "execution_count": null,
   "id": "a0e3750a",
   "metadata": {},
   "outputs": [],
   "source": []
  },
  {
   "cell_type": "code",
   "execution_count": null,
   "id": "de835efe",
   "metadata": {},
   "outputs": [],
   "source": []
  },
  {
   "cell_type": "code",
   "execution_count": null,
   "id": "5a6ed4d0",
   "metadata": {},
   "outputs": [],
   "source": []
  },
  {
   "cell_type": "code",
   "execution_count": null,
   "id": "081303da",
   "metadata": {},
   "outputs": [],
   "source": []
  },
  {
   "cell_type": "code",
   "execution_count": null,
   "id": "96877420",
   "metadata": {},
   "outputs": [],
   "source": []
  }
 ],
 "metadata": {
  "kernelspec": {
   "display_name": "Python 3",
   "language": "python",
   "name": "python3"
  },
  "language_info": {
   "codemirror_mode": {
    "name": "ipython",
    "version": 3
   },
   "file_extension": ".py",
   "mimetype": "text/x-python",
   "name": "python",
   "nbconvert_exporter": "python",
   "pygments_lexer": "ipython3",
   "version": "3.8.8"
  }
 },
 "nbformat": 4,
 "nbformat_minor": 5
}
