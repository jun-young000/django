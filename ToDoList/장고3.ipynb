{
 "cells": [
  {
   "cell_type": "code",
   "execution_count": null,
   "id": "66190df4",
   "metadata": {},
   "outputs": [],
   "source": []
  },
  {
   "cell_type": "code",
   "execution_count": null,
   "id": "9d9e19a6",
   "metadata": {},
   "outputs": [],
   "source": [
    "def categoryCreate(request) :\n",
    "    categories = Category.objects.all() #categories 변수에는 Category 테이블의 모든 레코드를 반환받아서 저장\n",
    "    # Category  테이블 컬럼 : id, category_name\n",
    "    content = {'categories' : categories}\n",
    "    return render(request, 'shareRes/categoryCreate.html', content)\n",
    "    # return HttpResponse('categoryCreate')\n"
   ]
  },
  {
   "cell_type": "code",
   "execution_count": null,
   "id": "4dd28690",
   "metadata": {},
   "outputs": [],
   "source": []
  },
  {
   "cell_type": "code",
   "execution_count": null,
   "id": "f2415965",
   "metadata": {},
   "outputs": [],
   "source": [
    "<div class=\"input-group\">\n",
    "                            <span class=\"input-group-addon\" id=\"\" style=\"border:1px solid #ccc; border-radius: 4px;\">{{category.category_name}}</span>\n",
    "                    </div>\n"
   ]
  },
  {
   "cell_type": "code",
   "execution_count": null,
   "id": "6738dad5",
   "metadata": {},
   "outputs": [],
   "source": []
  },
  {
   "cell_type": "code",
   "execution_count": null,
   "id": "305afd7a",
   "metadata": {},
   "outputs": [],
   "source": [
    "{% for category in categories %}\n",
    "                    {% if category.id == 7 %}\n",
    "                    <div class=\"input-group\">\n",
    "                            <span class=\"input-group-addon\" id=\"\" style=\"border:1px solid #ccc; border-radius: 4px;\">{{category.category_name}}</span>\n",
    "                    </div>\n",
    "                    {% endif %}\n",
    "                    {% endfor %}\n",
    "\n",
    "                    {% for category in categories %}\n",
    "                    {% if category.id != 7 %}\n",
    "                    <form action=\"./delete\" method=\"POST\">{% csrf_token %}\n",
    "                        <div class=\"input-group\">\n",
    "                            <span class=\"input-group-addon\" id=\"\" style=\"border:1px solid #ccc; border-radius: 4px;\">{{category.category_name}}</span>\n",
    "                            <input type=\"hidden\" name=\"categoryId\" id=\"categoryId\" value=\"{{category.id}}\"/>\n",
    "                            <input type=\"submit\" class=\"resAddBtn btn btn-danger\" role=\"button\" value=\"삭제\"/>\n",
    "                        </div>\n"
   ]
  },
  {
   "cell_type": "code",
   "execution_count": null,
   "id": "e5d31f04",
   "metadata": {},
   "outputs": [],
   "source": [
    "path('categoryCreate/delete', views.Delete_category, name= 'cateDelete'), # categoryCreate/delete/ 요청처리\n"
   ]
  },
  {
   "cell_type": "code",
   "execution_count": null,
   "id": "8322f8cc",
   "metadata": {},
   "outputs": [],
   "source": [
    "def Delete_category(request) : # 카테고리 삭제\n",
    "    category_id = request.POST['categoryId'] # hidden태그로 인해 전송됨\n",
    "    # 레코드 삭제\n",
    "    # 해당 레코드 가져오기\n",
    "    delete_category = Category.objects.get(id=category_id)\n",
    "    delete_category.delete() # db 내부에서 해당 레코드 삭제\n",
    "    return HttpResponseRedirect(reverse('cateCreatePage'))\n"
   ]
  },
  {
   "cell_type": "code",
   "execution_count": null,
   "id": "3d5ab785",
   "metadata": {},
   "outputs": [],
   "source": [
    "def restaurantCreate(request) :\n",
    "    # restaurnatCreate.html 파일을 rendering 할 때 카테고리 선택을 위한 데이터는 동적으로 추가되도록 코딩\n",
    "    # Category 테이블에서 레코드 모두 추출\n",
    "    categories = Category.objects.all()    \n",
    "    # 딕셔너리 구성\n",
    "    content = {'categories':categories}\n",
    "    # 렌더링 사용할 수 있도록  html파일에 전달\n",
    "    return render(request, 'shareRes/restaurantCreate.html',content)\n",
    "    # return HttpResponse('restaurantCreate')\n"
   ]
  },
  {
   "cell_type": "code",
   "execution_count": null,
   "id": "06ac0818",
   "metadata": {},
   "outputs": [],
   "source": [
    "class Restaurant(models.Model):\n",
    "    category = models.ForeignKey(Category, on_delete=models.SET_DEFAULT, default=3) #foreignkey 설정(카테고리를 삭제하면 기본 카테고리로 설정)\n",
    "    restaurant_name = models.CharField(max_length = 100) #맛집 이름\n",
    "    restaurant_link = models.CharField(max_length = 500) #맛집 URL\n",
    "    restaurant_content = models.TextField() # 맛집 설명\n",
    "    restaurant_keyword = models.CharField(max_length = 50) #키워드\n"
   ]
  },
  {
   "cell_type": "code",
   "execution_count": null,
   "id": "cf511047",
   "metadata": {},
   "outputs": [],
   "source": [
    "python manage.py makemigrations\n",
    "python manage.py migrate\n",
    "python manage.py dbshell\n"
   ]
  },
  {
   "cell_type": "code",
   "execution_count": null,
   "id": "4b28e84c",
   "metadata": {},
   "outputs": [],
   "source": [
    "urlpatterns = [\n",
    "    path('', views.index, name='index'), # http://localhost:8000 요청 처리\n",
    "    path('restaurantDetail/', views.restaurantDetail, name='resDetailPage'), #http://localhost:8000/restaurantDetail/ 요청 처리\n",
    "    path('restaurantCreate/', views.restaurantCreate, name='resCreatePage'), #http://localhost:8000/restaurantCreate/ 요청 처리\n",
    "    path('restaurantCreate/create/', views.Create_restaurant, name='resCreate'),\n",
    "    path('categoryCreate/', views.categoryCreate, name='cateCreatePage'), # http://localhost:8000/categoryCreate/ 요청 처리\n",
    "    path('categoryCreate/create', views.Create_category, name = 'cateCreate'), # http://localhost:8000/categoryCreate/create/ 요청처리\n",
    "    path('categoryCreate/delete', views.Delete_category, name= 'cateDelete'), # categoryCreate/delete/ 요청처리\n",
    "]\n"
   ]
  },
  {
   "cell_type": "code",
   "execution_count": null,
   "id": "df96cfd2",
   "metadata": {},
   "outputs": [],
   "source": [
    "def Create_restaurant(request) :\n",
    "    return HttpResponse('맛집 DB 저장합니다')\n",
    "\n"
   ]
  },
  {
   "cell_type": "code",
   "execution_count": null,
   "id": "0174a3f0",
   "metadata": {},
   "outputs": [],
   "source": [
    "link = request.POST['resLink']\n",
    "    content = request.POST['resContent']\n",
    "    keyword = request.POST['resLoc']\n",
    "    new_res = Restaurant(category = category, restaurant_name = name, restaurant_link = link,\n",
    "                         restaurant_content = content, restaurant_keyword = keyword)\n",
    "    new_res.save()\n"
   ]
  },
  {
   "cell_type": "code",
   "execution_count": null,
   "id": "71126cf2",
   "metadata": {},
   "outputs": [],
   "source": [
    "return HttpResponseRedirect(reverse('index'))\n"
   ]
  }
 ],
 "metadata": {
  "kernelspec": {
   "display_name": "Python 3",
   "language": "python",
   "name": "python3"
  },
  "language_info": {
   "codemirror_mode": {
    "name": "ipython",
    "version": 3
   },
   "file_extension": ".py",
   "mimetype": "text/x-python",
   "name": "python",
   "nbconvert_exporter": "python",
   "pygments_lexer": "ipython3",
   "version": "3.8.8"
  }
 },
 "nbformat": 4,
 "nbformat_minor": 5
}
